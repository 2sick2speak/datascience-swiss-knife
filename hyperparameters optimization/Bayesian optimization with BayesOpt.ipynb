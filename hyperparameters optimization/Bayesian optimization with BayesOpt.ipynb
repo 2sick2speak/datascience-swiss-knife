{
 "cells": [
  {
   "cell_type": "code",
   "execution_count": 1,
   "metadata": {
    "collapsed": true
   },
   "outputs": [],
   "source": [
    "import pandas as pd\n",
    "import numpy as np"
   ]
  },
  {
   "cell_type": "markdown",
   "metadata": {},
   "source": [
    "# Import dataset"
   ]
  },
  {
   "cell_type": "code",
   "execution_count": 2,
   "metadata": {
    "collapsed": false
   },
   "outputs": [],
   "source": [
    "train = pd.read_csv('../data/voting outcomes/train2016.csv')"
   ]
  },
  {
   "cell_type": "markdown",
   "metadata": {},
   "source": [
    "# Extract target vector and drop useless data"
   ]
  },
  {
   "cell_type": "code",
   "execution_count": 3,
   "metadata": {
    "collapsed": false
   },
   "outputs": [],
   "source": [
    "target = train['Party']"
   ]
  },
  {
   "cell_type": "code",
   "execution_count": 4,
   "metadata": {
    "collapsed": false
   },
   "outputs": [],
   "source": [
    "train = train.drop(['Party','USER_ID'], axis=1)"
   ]
  },
  {
   "cell_type": "markdown",
   "metadata": {},
   "source": [
    "# Dummy missing values imputation"
   ]
  },
  {
   "cell_type": "code",
   "execution_count": 5,
   "metadata": {
    "collapsed": false
   },
   "outputs": [],
   "source": [
    "train = train.fillna('NoData')"
   ]
  },
  {
   "cell_type": "markdown",
   "metadata": {},
   "source": [
    "# Convert YOB to age"
   ]
  },
  {
   "cell_type": "code",
   "execution_count": 6,
   "metadata": {
    "collapsed": false
   },
   "outputs": [],
   "source": [
    "def convert_to_age(age):\n",
    "    if age != 'NoData':\n",
    "        return 2016 - age\n",
    "    else:\n",
    "        return 'NoData'\n",
    "\n",
    "train['YOB'] = train['YOB'].apply(convert_to_age)"
   ]
  },
  {
   "cell_type": "markdown",
   "metadata": {},
   "source": [
    "# Aggeregate age to age groups (numerical -> ordinal)"
   ]
  },
  {
   "cell_type": "code",
   "execution_count": 7,
   "metadata": {
    "collapsed": false
   },
   "outputs": [],
   "source": [
    "age_borders = [18, 27, 35, 50, 65, 80]"
   ]
  },
  {
   "cell_type": "code",
   "execution_count": 8,
   "metadata": {
    "collapsed": true
   },
   "outputs": [],
   "source": [
    "def return_border(age, borders):\n",
    "    i = 0\n",
    "    while i < len(borders):\n",
    "        if age >= borders[i]:\n",
    "            i += 1\n",
    "        else:\n",
    "            return str(i)\n",
    "    \n",
    "    return str(i)\n",
    "            "
   ]
  },
  {
   "cell_type": "code",
   "execution_count": 9,
   "metadata": {
    "collapsed": false
   },
   "outputs": [],
   "source": [
    "mask = train['YOB']!='NoData'\n",
    "\n",
    "train['YOB'][mask] = train['YOB'][mask].apply(return_border, borders = age_borders)"
   ]
  },
  {
   "cell_type": "markdown",
   "metadata": {},
   "source": [
    "# One hot encoding for all columns"
   ]
  },
  {
   "cell_type": "code",
   "execution_count": 10,
   "metadata": {
    "collapsed": false
   },
   "outputs": [],
   "source": [
    "train = pd.get_dummies(train)"
   ]
  },
  {
   "cell_type": "markdown",
   "metadata": {},
   "source": [
    "# Binarize target variable"
   ]
  },
  {
   "cell_type": "code",
   "execution_count": 11,
   "metadata": {
    "collapsed": true
   },
   "outputs": [],
   "source": [
    "from sklearn.preprocessing import LabelEncoder"
   ]
  },
  {
   "cell_type": "code",
   "execution_count": 12,
   "metadata": {
    "collapsed": true
   },
   "outputs": [],
   "source": [
    "lb = LabelEncoder()"
   ]
  },
  {
   "cell_type": "code",
   "execution_count": 13,
   "metadata": {
    "collapsed": false
   },
   "outputs": [],
   "source": [
    "target_binary = lb.fit_transform(target)"
   ]
  },
  {
   "cell_type": "markdown",
   "metadata": {},
   "source": [
    "# Simple xgboost for classification:)"
   ]
  },
  {
   "cell_type": "code",
   "execution_count": 14,
   "metadata": {
    "collapsed": false
   },
   "outputs": [
    {
     "name": "stdout",
     "output_type": "stream",
     "text": [
      "Accuracy on fold 0: 0.639785\n",
      "Accuracy on fold 1: 0.660682\n",
      "Accuracy on fold 2: 0.64632\n",
      "Accuracy on fold 3: 0.637343\n",
      "Accuracy on fold 4: 0.640934\n",
      "Accuracy on fold 5: 0.639138\n",
      "Accuracy on fold 6: 0.630162\n",
      "Accuracy on fold 7: 0.636691\n",
      "Accuracy on fold 8: 0.622302\n",
      "Accuracy on fold 9: 0.564748\n"
     ]
    }
   ],
   "source": [
    "import xgboost as xgb\n",
    "from sklearn.cross_validation import StratifiedKFold\n",
    "from sklearn.metrics import accuracy_score\n",
    "\n",
    "params = {}\n",
    "params[\"objective\"] = \"binary:logistic\"\n",
    "params[\"eta\"] = 0.01\n",
    "params[\"min_child_weight\"] = 1\n",
    "params[\"subsample\"] = 0.9\n",
    "params[\"colsample_bytree\"] = 0.8\n",
    "params[\"silent\"] = 0\n",
    "params[\"max_depth\"] = 6\n",
    "params[\"eval_metric\"] = \"error\"\n",
    "params['seed'] = 1488\n",
    "num_round = 5000\n",
    "\n",
    "y = pd.Series(target_binary)\n",
    "skf = StratifiedKFold(y.values, n_folds=10, random_state=1488)\n",
    "results = []\n",
    "trees = []\n",
    "\n",
    "for (i, (train_index, test_index)) in enumerate(skf):\n",
    "    xg_train = xgb.DMatrix(train.ix[train_index], label=y.ix[train_index] , missing=np.nan)\n",
    "    xg_test = xgb.DMatrix(train.ix[test_index], label=y.ix[test_index], missing=np.nan)\n",
    "    watchlist = [(xg_train,'train'), (xg_test, 'test')]\n",
    "    bst = xgb.train(params, xg_train, num_round, watchlist, early_stopping_rounds=30, verbose_eval=False)\n",
    "    print 'Accuracy on fold {num}: {acc}'.format(num=i, acc=(1 - bst.best_score))\n",
    "    results.append(bst.best_score)\n",
    "    trees.append(bst)"
   ]
  },
  {
   "cell_type": "code",
   "execution_count": 15,
   "metadata": {
    "collapsed": false
   },
   "outputs": [
    {
     "name": "stdout",
     "output_type": "stream",
     "text": [
      "Average accuracy: 0.6318105\n"
     ]
    }
   ],
   "source": [
    "print \"Average accuracy: {acc}\".format(acc = (1 - np.mean(results)))"
   ]
  },
  {
   "cell_type": "markdown",
   "metadata": {},
   "source": [
    "# Bayesian Optimization Intro"
   ]
  },
  {
   "cell_type": "code",
   "execution_count": 46,
   "metadata": {
    "collapsed": true
   },
   "outputs": [],
   "source": [
    "from bayes_opt import BayesianOptimization"
   ]
  },
  {
   "cell_type": "code",
   "execution_count": 45,
   "metadata": {
    "collapsed": true
   },
   "outputs": [],
   "source": [
    "def xgboostcv(eta,\n",
    "              subsample,\n",
    "              colsample_bytree,\n",
    "              min_child_weight,\n",
    "              max_depth,\n",
    "              seed = 1488):\n",
    "    \n",
    "    params = {}\n",
    "    params[\"objective\"] = \"binary:logistic\"\n",
    "    params[\"eta\"] = eta\n",
    "    params[\"min_child_weight\"] = min_child_weight\n",
    "    params[\"subsample\"] = subsample\n",
    "    params[\"colsample_bytree\"] = colsample_bytree\n",
    "    params[\"silent\"] = 1\n",
    "    params[\"max_depth\"] = int(max_depth)\n",
    "    params[\"eval_metric\"] = \"error\"\n",
    "    params['seed'] = seed\n",
    "    num_round = 5000\n",
    "    bst = xgb.train(params, xg_train, num_round, watchlist, early_stopping_rounds=30, verbose_eval=False)\n",
    "    print bst.best_score, bst.best_iteration, params\n",
    "    \n",
    "    return -bst.best_score\n",
    "    \n",
    "    "
   ]
  },
  {
   "cell_type": "code",
   "execution_count": null,
   "metadata": {
    "collapsed": false
   },
   "outputs": [],
   "source": [
    "search_space = {'eta': (0.01, 0.1),\n",
    "                'subsample': (0.1, 0.95),\n",
    "                'min_child_weight': (1, 10),\n",
    "                'colsample_bytree': (0.1, 0.95),\n",
    "                'max_depth': (3, 20)\n",
    "    \n",
    "}\n",
    "xgbBO = BayesianOptimization(xgboostcv, search_space )\n",
    "\n",
    "xgbBO.maximize(n_iter=10)\n",
    "\n",
    "print('-'*53)\n",
    "print('Final Results')\n",
    "print('RFC: %f' % xgbBO.res['max']['max_val'])"
   ]
  },
  {
   "cell_type": "code",
   "execution_count": null,
   "metadata": {
    "collapsed": true
   },
   "outputs": [],
   "source": [
    "xgbBO.res"
   ]
  }
 ],
 "metadata": {
  "kernelspec": {
   "display_name": "Python 2",
   "language": "python",
   "name": "python2"
  },
  "language_info": {
   "codemirror_mode": {
    "name": "ipython",
    "version": 2
   },
   "file_extension": ".py",
   "mimetype": "text/x-python",
   "name": "python",
   "nbconvert_exporter": "python",
   "pygments_lexer": "ipython2",
   "version": "2.7.10"
  }
 },
 "nbformat": 4,
 "nbformat_minor": 0
}
